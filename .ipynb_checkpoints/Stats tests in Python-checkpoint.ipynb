{
 "cells": [
  {
   "cell_type": "markdown",
   "id": "bf824951",
   "metadata": {},
   "source": [
    "# 1. Shapiro Wilk Test\n",
    "- Tests wheather a data sample has a Gaussian distribution"
   ]
  },
  {
   "cell_type": "markdown",
   "id": "e0a0c07c",
   "metadata": {},
   "source": [
    "#### ASSUMPTIONS:\n",
    "    -Observations in each step are independent and identically distributed (iid).\n",
    "    -Interpretaion \n"
   ]
  },
  {
   "cell_type": "markdown",
   "id": "132203df",
   "metadata": {},
   "source": [
    " - H0 = This sample has a Gaussian distribution\n",
    " - H1 = This sample does not have a Gaussian/Normal distribution"
   ]
  },
  {
   "cell_type": "code",
   "execution_count": 1,
   "id": "ba7866d5",
   "metadata": {},
   "outputs": [
    {
     "name": "stdout",
     "output_type": "stream",
     "text": [
      "Requirement already satisfied: scipy in e:\\anaconda\\lib\\site-packages (1.6.2)\n",
      "Requirement already satisfied: numpy<1.23.0,>=1.16.5 in e:\\anaconda\\lib\\site-packages (from scipy) (1.20.1)\n"
     ]
    }
   ],
   "source": [
    "# installing scipy lib\n",
    "!pip install scipy "
   ]
  },
  {
   "cell_type": "code",
   "execution_count": 3,
   "id": "8a905586",
   "metadata": {},
   "outputs": [],
   "source": [
    "# importing lib\n",
    "from scipy.stats import shapiro"
   ]
  },
  {
   "cell_type": "code",
   "execution_count": 36,
   "id": "87a60c71",
   "metadata": {},
   "outputs": [
    {
     "data": {
      "text/plain": [
       "ShapiroResult(statistic=0.8951009511947632, pvalue=0.19340917468070984)"
      ]
     },
     "execution_count": 36,
     "metadata": {},
     "output_type": "execute_result"
    }
   ],
   "source": [
    "data = [0.873, 2.817, 0.121, -0.945, -0.055, -1.436, 0.360, -1.478, -1.637, -1.869] \n",
    "shapiro(data)\n",
    "# as pvalue(1.062) is great then 0.05 so this value is not cosiderable \n",
    "# 0.05 is threshold"
   ]
  },
  {
   "cell_type": "code",
   "execution_count": 37,
   "id": "ecc43b00",
   "metadata": {},
   "outputs": [
    {
     "name": "stdout",
     "output_type": "stream",
     "text": [
      "stat = 0.8951009511947632 , p = 0.19340917468070984\n",
      "The data is Normal or Gaussian\n"
     ]
    }
   ],
   "source": [
    "stat, p = shapiro(data)\n",
    "print(f'stat = {stat} , p = {p}')\n",
    "\n",
    "if p > 0.05:\n",
    "    print('The data is Normal or Gaussian')\n",
    "else:\n",
    "    print('The data is not Normal')\n"
   ]
  },
  {
   "cell_type": "code",
   "execution_count": null,
   "id": "97928b2a",
   "metadata": {},
   "outputs": [],
   "source": []
  }
 ],
 "metadata": {
  "kernelspec": {
   "display_name": "Python 3",
   "language": "python",
   "name": "python3"
  },
  "language_info": {
   "codemirror_mode": {
    "name": "ipython",
    "version": 3
   },
   "file_extension": ".py",
   "mimetype": "text/x-python",
   "name": "python",
   "nbconvert_exporter": "python",
   "pygments_lexer": "ipython3",
   "version": "3.8.8"
  }
 },
 "nbformat": 4,
 "nbformat_minor": 5
}
