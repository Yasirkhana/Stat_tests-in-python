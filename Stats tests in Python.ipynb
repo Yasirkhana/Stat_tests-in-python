{
 "cells": [
  {
   "cell_type": "markdown",
   "id": "468f5af7",
   "metadata": {},
   "source": [
    "# 1. Shapiro Wilk Test\n",
    "- Tests wheather a data sample has a Gaussian distribution"
   ]
  },
  {
   "cell_type": "markdown",
   "id": "1ff79055",
   "metadata": {},
   "source": [
    "#### ASSUMPTIONS:\n",
    "    -Observations in each step are independent and identically distributed (iid).\n",
    "    -Interpretaion \n"
   ]
  },
  {
   "cell_type": "markdown",
   "id": "397870cf",
   "metadata": {},
   "source": [
    " - H0 = This sample has a Gaussian distribution\n",
    " - H1 = This sample does not have a Gaussian/Normal distribution"
   ]
  },
  {
   "cell_type": "code",
   "execution_count": null,
   "id": "1b6f4512",
   "metadata": {},
   "outputs": [],
   "source": []
  },
  {
   "cell_type": "code",
   "execution_count": null,
   "id": "9c88ffbe",
   "metadata": {},
   "outputs": [],
   "source": []
  },
  {
   "cell_type": "code",
   "execution_count": null,
   "id": "6da975de",
   "metadata": {},
   "outputs": [],
   "source": []
  },
  {
   "cell_type": "code",
   "execution_count": null,
   "id": "7f3db2d7",
   "metadata": {},
   "outputs": [],
   "source": []
  }
 ],
 "metadata": {
  "kernelspec": {
   "display_name": "Python 3",
   "language": "python",
   "name": "python3"
  },
  "language_info": {
   "codemirror_mode": {
    "name": "ipython",
    "version": 3
   },
   "file_extension": ".py",
   "mimetype": "text/x-python",
   "name": "python",
   "nbconvert_exporter": "python",
   "pygments_lexer": "ipython3",
   "version": "3.8.8"
  }
 },
 "nbformat": 4,
 "nbformat_minor": 5
}
