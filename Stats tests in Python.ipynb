{
 "cells": [
  {
   "cell_type": "markdown",
   "id": "2ac439b2",
   "metadata": {},
   "source": [
    "# 1. Shapiro Wilk Test\n",
    "- Tests wheather a data sample has a Gaussian distribution"
   ]
  },
  {
   "cell_type": "markdown",
   "id": "0cffaaaf",
   "metadata": {},
   "source": [
    "#### ASSUMPTIONS:\n",
    "    -Observations in each step are independent and identically distributed (iid).\n",
    "    -Interpretaion \n"
   ]
  },
  {
   "cell_type": "markdown",
   "id": "d6b224d1",
   "metadata": {},
   "source": [
    " - H0 = This sample has a Gaussian distribution\n",
    " - H1 = This sample does not have a Gaussian/Normal distribution"
   ]
  },
  {
   "cell_type": "code",
   "execution_count": 1,
   "id": "4fb4bb3a",
   "metadata": {},
   "outputs": [
    {
     "name": "stdout",
     "output_type": "stream",
     "text": [
      "Requirement already satisfied: scipy in e:\\anaconda\\lib\\site-packages (1.6.2)\n",
      "Requirement already satisfied: numpy<1.23.0,>=1.16.5 in e:\\anaconda\\lib\\site-packages (from scipy) (1.20.1)\n"
     ]
    }
   ],
   "source": [
    "# installing scipy lib\n",
    "!pip install scipy "
   ]
  },
  {
   "cell_type": "code",
   "execution_count": 2,
   "id": "a4da2afd",
   "metadata": {},
   "outputs": [],
   "source": [
    "# importing lib\n",
    "from scipy.stats import shapiro"
   ]
  },
  {
   "cell_type": "code",
   "execution_count": 3,
   "id": "f5ec6a93",
   "metadata": {},
   "outputs": [
    {
     "data": {
      "text/plain": [
       "ShapiroResult(statistic=0.8951009511947632, pvalue=0.19340917468070984)"
      ]
     },
     "execution_count": 3,
     "metadata": {},
     "output_type": "execute_result"
    }
   ],
   "source": [
    "data = [0.873, 2.817, 0.121, -0.945, -0.055, -1.436, 0.360, -1.478, -1.637, -1.869] \n",
    "shapiro(data)\n",
    "# as pvalue(1.062) is great then 0.05 so this value is not cosiderable \n",
    "# 0.05 is threshold"
   ]
  },
  {
   "cell_type": "code",
   "execution_count": 4,
   "id": "255f4fdb",
   "metadata": {},
   "outputs": [
    {
     "name": "stdout",
     "output_type": "stream",
     "text": [
      "stat = 0.8951009511947632 , p = 0.19340917468070984\n",
      "The data is Normal or Gaussian\n"
     ]
    }
   ],
   "source": [
    "stat, p = shapiro(data)\n",
    "print(f'stat = {stat} , p = {p}')\n",
    "\n",
    "if p > 0.05:\n",
    "    print('The data is Normal or Gaussian')\n",
    "else:\n",
    "    print('The data is not Normal')\n"
   ]
  },
  {
   "cell_type": "markdown",
   "id": "2dbedd2a",
   "metadata": {},
   "source": [
    "## Now we will impliment the test on titanic data set."
   ]
  },
  {
   "cell_type": "code",
   "execution_count": 7,
   "id": "22ad4856",
   "metadata": {},
   "outputs": [],
   "source": [
    "# importing libraires\n",
    "import numpy as np\n",
    "import pandas as pd\n",
    "import matplotlib.pyplot as plt\n",
    "import seaborn as sns"
   ]
  },
  {
   "cell_type": "code",
   "execution_count": 13,
   "id": "4b865bc9",
   "metadata": {},
   "outputs": [
    {
     "data": {
      "text/plain": [
       "<AxesSubplot:>"
      ]
     },
     "execution_count": 13,
     "metadata": {},
     "output_type": "execute_result"
    },
    {
     "data": {
      "image/png": "[encoded data removed]",
      "text/plain": [
       "<Figure size 432x288 with 1 Axes>"
      ]
     },
     "metadata": {
      "needs_background": "light"
     },
     "output_type": "display_data"
    }
   ],
   "source": [
    "titanic = sns.load_dataset('titanic')\n",
    " \n",
    "titanic['age'].hist() "
   ]
  },
  {
   "cell_type": "code",
   "execution_count": 7,
   "id": "8225ca68",
   "metadata": {},
   "outputs": [
    {
     "name": "stderr",
     "output_type": "stream",
     "text": [
      "E:\\Anaconda\\lib\\site-packages\\seaborn\\_decorators.py:36: FutureWarning: Pass the following variable as a keyword arg: x. From version 0.12, the only valid positional argument will be `data`, and passing other arguments without an explicit keyword will result in an error or misinterpretation.\n",
      "  warnings.warn(\n"
     ]
    },
    {
     "data": {
      "text/plain": [
       "<AxesSubplot:xlabel='age'>"
      ]
     },
     "execution_count": 7,
     "metadata": {},
     "output_type": "execute_result"
    },
    {
     "data": {
      "image/png": "[encoded data removed]",
      "text/plain": [
       "<Figure size 432x288 with 1 Axes>"
      ]
     },
     "metadata": {
      "needs_background": "light"
     },
     "output_type": "display_data"
    }
   ],
   "source": [
    "sns.boxplot(titanic['age'])"
   ]
  },
  {
   "cell_type": "markdown",
   "id": "3785b799",
   "metadata": {},
   "source": [
    "## Normality Test"
   ]
  },
  {
   "cell_type": "code",
   "execution_count": 8,
   "id": "8ac15ecf",
   "metadata": {},
   "outputs": [
    {
     "name": "stdout",
     "output_type": "stream",
     "text": [
      "stat = nan , p = 1.0\n",
      "The data is Normal or Gaussian\n"
     ]
    }
   ],
   "source": [
    "# using same above code\n",
    "stat, p = shapiro(titanic['age'])\n",
    "print(f'stat = {stat} , p = {p}')\n",
    "\n",
    "if p > 0.05:\n",
    "    print('The data is Normal or Gaussian')\n",
    "else:\n",
    "    print('The data is not Normal')\n",
    "\n"
   ]
  },
  {
   "cell_type": "code",
   "execution_count": 13,
   "id": "834ab715",
   "metadata": {},
   "outputs": [
    {
     "name": "stdout",
     "output_type": "stream",
     "text": [
      "stat = 0.7430527806282043 , p = 1.6486823985903073e-16\n",
      "The data is not Normal\n"
     ]
    },
    {
     "name": "stderr",
     "output_type": "stream",
     "text": [
      "E:\\Anaconda\\lib\\site-packages\\seaborn\\_decorators.py:36: FutureWarning: Pass the following variable as a keyword arg: x. From version 0.12, the only valid positional argument will be `data`, and passing other arguments without an explicit keyword will result in an error or misinterpretation.\n",
      "  warnings.warn(\n"
     ]
    },
    {
     "data": {
      "text/plain": [
       "<AxesSubplot:xlabel='fare'>"
      ]
     },
     "execution_count": 13,
     "metadata": {},
     "output_type": "execute_result"
    },
    {
     "data": {
      "image/png": "[encoded data removed]",
      "text/plain": [
       "<Figure size 432x288 with 1 Axes>"
      ]
     },
     "metadata": {
      "needs_background": "light"
     },
     "output_type": "display_data"
    }
   ],
   "source": [
    "    \n",
    "# using same above code\n",
    "# droping empty value\n",
    "titanic = titanic.dropna()\n",
    "\n",
    "stat, p = shapiro(titanic['fare'])\n",
    "print(f'stat = {stat} , p = {p}')\n",
    "\n",
    "if p > 0.05:\n",
    "    print('The data is Normal or Gaussian')\n",
    "else:\n",
    "    print('The data is not Normal')\n",
    "    \n",
    "    \n",
    "sns.boxplot(titanic['fare'])\n",
    "\n"
   ]
  },
  {
   "cell_type": "code",
   "execution_count": 9,
   "id": "c2f369a1",
   "metadata": {},
   "outputs": [
    {
     "name": "stderr",
     "output_type": "stream",
     "text": [
      "E:\\Anaconda\\lib\\site-packages\\seaborn\\_decorators.py:36: FutureWarning: Pass the following variable as a keyword arg: x. From version 0.12, the only valid positional argument will be `data`, and passing other arguments without an explicit keyword will result in an error or misinterpretation.\n",
      "  warnings.warn(\n"
     ]
    },
    {
     "data": {
      "text/plain": [
       "<AxesSubplot:xlabel='age'>"
      ]
     },
     "execution_count": 9,
     "metadata": {},
     "output_type": "execute_result"
    },
    {
     "data": {
      "image/png": "[encoded data removed]",
      "text/plain": [
       "<Figure size 432x288 with 1 Axes>"
      ]
     },
     "metadata": {
      "needs_background": "light"
     },
     "output_type": "display_data"
    }
   ],
   "source": [
    "# After removing empty values, we can see that the box is equally divided means data is normal\n",
    "sns.boxplot(titanic['age'])"
   ]
  },
  {
   "cell_type": "code",
   "execution_count": 10,
   "id": "9f679709",
   "metadata": {},
   "outputs": [
    {
     "data": {
      "text/plain": [
       "<AxesSubplot:>"
      ]
     },
     "execution_count": 10,
     "metadata": {},
     "output_type": "execute_result"
    },
    {
     "data": {
      "image/png": "[encoded data removed]",
      "text/plain": [
       "<Figure size 432x288 with 1 Axes>"
      ]
     },
     "metadata": {
      "needs_background": "light"
     },
     "output_type": "display_data"
    }
   ],
   "source": [
    " titanic['age'].hist() "
   ]
  },
  {
   "cell_type": "code",
   "execution_count": 11,
   "id": "7bf60e10",
   "metadata": {},
   "outputs": [
    {
     "name": "stdout",
     "output_type": "stream",
     "text": [
      "stat = 0.5218914747238159 , p = 1.0789998175301091e-43\n",
      "The data is not Normal\n"
     ]
    },
    {
     "name": "stderr",
     "output_type": "stream",
     "text": [
      "E:\\Anaconda\\lib\\site-packages\\seaborn\\_decorators.py:36: FutureWarning: Pass the following variable as a keyword arg: x. From version 0.12, the only valid positional argument will be `data`, and passing other arguments without an explicit keyword will result in an error or misinterpretation.\n",
      "  warnings.warn(\n"
     ]
    },
    {
     "data": {
      "text/plain": [
       "<AxesSubplot:xlabel='fare'>"
      ]
     },
     "execution_count": 11,
     "metadata": {},
     "output_type": "execute_result"
    },
    {
     "data": {
      "image/png": "[encoded data removed]",
      "text/plain": [
       "<Figure size 432x288 with 1 Axes>"
      ]
     },
     "metadata": {
      "needs_background": "light"
     },
     "output_type": "display_data"
    }
   ],
   "source": [
    "# Testing for titanic['fare'] column\n",
    "# using same above code\n",
    "stat, p = shapiro(titanic['fare'])\n",
    "print(f'stat = {stat} , p = {p}')\n",
    "\n",
    "if p > 0.05:\n",
    "    print('The data is Normal or Gaussian')\n",
    "else:\n",
    "    print('The data is not Normal')\n",
    "    \n",
    "    \n",
    "sns.boxplot(titanic['fare'])\n",
    "\n",
    "\n",
    "# So the data is not normal here."
   ]
  },
  {
   "cell_type": "markdown",
   "id": "eda87f46",
   "metadata": {},
   "source": [
    "# 2- CORRELATION TEST\n",
    "## 2.1 - PEARSON'S CORRELATION COEFFICIENT  \n",
    "- Test wheather two samples have a linear relationship\n",
    "##### ASSUMTIONS:\n",
    "    1. Obersation in each sample are independent and identically distributed\n",
    "    2. Obersation in each sample are normally distributed.\n",
    "    3. Obersation in each sample have the same varience\n",
    "    4. Interpretation\n",
    "\n",
    "- H0 = The two samples are independent.\n",
    "- H1 = There is a dependency between the samples."
   ]
  },
  {
   "cell_type": "code",
   "execution_count": 12,
   "id": "c985aff3",
   "metadata": {},
   "outputs": [
    {
     "name": "stdout",
     "output_type": "stream",
     "text": [
      "stat = 0.6860166341568066 , p = 0.028501975029885156\n",
      "Propably dependent (correlation Exists)\n"
     ]
    }
   ],
   "source": [
    "# Example of Pearson's correlation test:\n",
    "from scipy.stats import pearsonr \n",
    "data1 = [0.873, 2.817, 0.121, -0.945, -0.055, -1.436, 0.360, -1.478, -1.637, -1.869] \n",
    "data2 = [0.253, 3.517, 0.125, -7.545, -0.555, -1.536, 3.350, -1.578, -3.537, -1.579] \n",
    "\n",
    "stat, p = pearsonr(data1,data2)\n",
    "\n",
    "print(f'stat = {stat} , p = {p}')\n",
    "\n",
    "if p > 0.05:\n",
    "    print('Propably independent (No correlation)')\n",
    "else:\n",
    "    print('Propably dependent (correlation Exists)')"
   ]
  },
  {
   "cell_type": "code",
   "execution_count": 16,
   "id": "b893c652",
   "metadata": {},
   "outputs": [
    {
     "name": "stdout",
     "output_type": "stream",
     "text": [
      "stat = -0.09073036394094937 , p = 0.223185916258614\n",
      "Propably independent (No correlation)\n"
     ]
    }
   ],
   "source": [
    "# Appling pearson's on titanic dataset\n",
    "titanic = titanic.dropna()\n",
    "\n",
    "stat, p = pearsonr(titanic['age'],titanic['fare'])\n",
    "\n",
    "print(f'stat = {stat} , p = {p}')\n",
    "\n",
    "if p > 0.05:\n",
    "    print('Propably independent (No correlation)')\n",
    "else:\n",
    "    print('Propably dependent (correlation Exists)')"
   ]
  },
  {
   "cell_type": "markdown",
   "id": "1292f7ea",
   "metadata": {},
   "source": [
    "# 2- CORRELATION TEST\n",
    "## 2.2 - PEARSON'S CORRELATION COEFFICIENT  \n",
    "- Test wheather two samples have monotonic relationship\n",
    "##### ASSUMTIONS:\n",
    "    1. Obersation in each sample are independent and identically distributed\n",
    "    2. Obersation in each sample can be ranked.\n",
    "    3. Interpretation\n",
    "\n",
    "- H0 = The two samples are independent.\n",
    "- H1 = There is a dependency between the samples."
   ]
  },
  {
   "cell_type": "code",
   "execution_count": 17,
   "id": "9e3929d1",
   "metadata": {},
   "outputs": [
    {
     "name": "stdout",
     "output_type": "stream",
     "text": [
      "stat = 0.8545454545454544 , p = 0.0016368033159867143\n",
      "Propably dependent (correlation Exists)\n"
     ]
    }
   ],
   "source": [
    "# Example of Spearsan's Rnak correlation test:\n",
    "from scipy.stats import spearmanr \n",
    "data1 = [0.873, 2.817, 0.121, -0.945, -0.055, -1.436, 0.360, -1.478, -1.637, -1.869] \n",
    "data2 = [0.253, 3.517, 0.125, -7.545, -0.555, -1.536, 3.350, -1.578, -3.537, -1.579] \n",
    "\n",
    "stat, p = spearmanr(data1,data2)\n",
    "\n",
    "print(f'stat = {stat} , p = {p}')\n",
    "\n",
    "if p > 0.05:\n",
    "    print('Propably independent (No correlation)')\n",
    "else:\n",
    "    print('Propably dependent (correlation Exists)')"
   ]
  },
  {
   "cell_type": "code",
   "execution_count": 18,
   "id": "7546e512",
   "metadata": {},
   "outputs": [
    {
     "name": "stdout",
     "output_type": "stream",
     "text": [
      "stat = -0.07258447372826443 , p = 0.3301774806884409\n",
      "Propably independent (No correlation)\n"
     ]
    }
   ],
   "source": [
    "# Appling Spearsan's Rnak correlation test on titanic dataset\n",
    "titanic = titanic.dropna()\n",
    "\n",
    "stat, p = spearmanr(titanic['age'],titanic['fare'])\n",
    "\n",
    "print(f'stat = {stat} , p = {p}')\n",
    "\n",
    "if p > 0.05:\n",
    "    print('Propably independent (No correlation)')\n",
    "else:\n",
    "    print('Propably dependent (correlation Exists)')"
   ]
  },
  {
   "cell_type": "markdown",
   "id": "14cf2dcf",
   "metadata": {},
   "source": [
    "# 3- Chi- Squared Test\n",
    "- Test wheather two categorical values are related or independent\n",
    "##### ASSUMTIONS:\n",
    "    1. Obervation used in the calculation of the contingency table are independent. 25 or more examples in each cell of the contingency table. Interpretation\n",
    "\n",
    "- H0 = The two samples are independent.\n",
    "- H1 = There is a dependency between the samples."
   ]
  },
  {
   "cell_type": "code",
   "execution_count": null,
   "id": "241b0f09",
   "metadata": {},
   "outputs": [],
   "source": []
  },
  {
   "cell_type": "code",
   "execution_count": null,
   "id": "915f4217",
   "metadata": {},
   "outputs": [],
   "source": []
  },
  {
   "cell_type": "code",
   "execution_count": null,
   "id": "1cbdb8d5",
   "metadata": {},
   "outputs": [],
   "source": []
  },
  {
   "cell_type": "code",
   "execution_count": null,
   "id": "647e9cc0",
   "metadata": {},
   "outputs": [],
   "source": []
  },
  {
   "cell_type": "code",
   "execution_count": null,
   "id": "381beea3",
   "metadata": {},
   "outputs": [],
   "source": []
  },
  {
   "cell_type": "code",
   "execution_count": null,
   "id": "b7c141b1",
   "metadata": {},
   "outputs": [],
   "source": []
  }
 ],
 "metadata": {
  "kernelspec": {
   "display_name": "Python 3",
   "language": "python",
   "name": "python3"
  },
  "language_info": {
   "codemirror_mode": {
    "name": "ipython",
    "version": 3
   },
   "file_extension": ".py",
   "mimetype": "text/x-python",
   "name": "python",
   "nbconvert_exporter": "python",
   "pygments_lexer": "ipython3",
   "version": "3.8.8"
  }
 },
 "nbformat": 4,
 "nbformat_minor": 5
}
