{
 "cells": [
  {
   "cell_type": "markdown",
   "id": "7dc8021b",
   "metadata": {},
   "source": [
    "# 1. Shapiro Wilk Test\n",
    "- Tests wheather a data sample has a Gaussian distribution"
   ]
  },
  {
   "cell_type": "markdown",
   "id": "c5f3ecb7",
   "metadata": {},
   "source": [
    "#### ASSUMPTIONS:\n",
    "    -Observations in each step are independent and identically distributed (iid).\n",
    "    -Interpretaion \n"
   ]
  },
  {
   "cell_type": "markdown",
   "id": "478ffdc6",
   "metadata": {},
   "source": [
    " - H0 = This sample has a Gaussian distribution\n",
    " - H1 = This sample does not have a Gaussian/Normal distribution"
   ]
  },
  {
   "cell_type": "code",
   "execution_count": 1,
   "id": "cbff1fd5",
   "metadata": {},
   "outputs": [
    {
     "name": "stdout",
     "output_type": "stream",
     "text": [
      "Requirement already satisfied: scipy in e:\\anaconda\\lib\\site-packages (1.6.2)\n",
      "Requirement already satisfied: numpy<1.23.0,>=1.16.5 in e:\\anaconda\\lib\\site-packages (from scipy) (1.20.1)\n"
     ]
    }
   ],
   "source": [
    "# installing scipy lib\n",
    "!pip install scipy "
   ]
  },
  {
   "cell_type": "code",
   "execution_count": 3,
   "id": "a5d4d2f7",
   "metadata": {},
   "outputs": [],
   "source": [
    "# importing lib\n",
    "from scipy.stats import shapiro"
   ]
  },
  {
   "cell_type": "code",
   "execution_count": 36,
   "id": "afaa4e9e",
   "metadata": {},
   "outputs": [
    {
     "data": {
      "text/plain": [
       "ShapiroResult(statistic=0.8951009511947632, pvalue=0.19340917468070984)"
      ]
     },
     "execution_count": 36,
     "metadata": {},
     "output_type": "execute_result"
    }
   ],
   "source": [
    "data = [0.873, 2.817, 0.121, -0.945, -0.055, -1.436, 0.360, -1.478, -1.637, -1.869] \n",
    "shapiro(data)\n",
    "# as pvalue(1.062) is great then 0.05 so this value is not cosiderable \n",
    "# 0.05 is threshold"
   ]
  },
  {
   "cell_type": "code",
   "execution_count": 37,
   "id": "df909147",
   "metadata": {},
   "outputs": [
    {
     "name": "stdout",
     "output_type": "stream",
     "text": [
      "stat = 0.8951009511947632 , p = 0.19340917468070984\n",
      "The data is Normal or Gaussian\n"
     ]
    }
   ],
   "source": [
    "stat, p = shapiro(data)\n",
    "print(f'stat = {stat} , p = {p}')\n",
    "\n",
    "if p > 0.05:\n",
    "    print('The data is Normal or Gaussian')\n",
    "else:\n",
    "    print('The data is not Normal')\n"
   ]
  },
  {
   "cell_type": "markdown",
   "id": "56f762a7",
   "metadata": {},
   "source": [
    "## Now we will impliment the test on titanic data set."
   ]
  },
  {
   "cell_type": "code",
   "execution_count": 39,
   "id": "82265c41",
   "metadata": {},
   "outputs": [],
   "source": [
    "# importing libraires\n",
    "import numpy as np\n",
    "import pandas as pd\n",
    "import matplotlib.pyplot as plt\n",
    "import seaborn as sns"
   ]
  },
  {
   "cell_type": "code",
   "execution_count": 43,
   "id": "8f488499",
   "metadata": {},
   "outputs": [
    {
     "data": {
      "text/plain": [
       "<AxesSubplot:>"
      ]
     },
     "execution_count": 43,
     "metadata": {},
     "output_type": "execute_result"
    },
    {
     "data": {
      "image/png": "[encoded data removed]",
      "text/plain": [
       "<Figure size 432x288 with 1 Axes>"
      ]
     },
     "metadata": {
      "needs_background": "light"
     },
     "output_type": "display_data"
    }
   ],
   "source": [
    "titanic = sns.load_dataset('titanic')\n",
    " \n",
    "titanic['age'].hist() "
   ]
  },
  {
   "cell_type": "code",
   "execution_count": 45,
   "id": "ebbec373",
   "metadata": {},
   "outputs": [
    {
     "name": "stderr",
     "output_type": "stream",
     "text": [
      "E:\\Anaconda\\lib\\site-packages\\seaborn\\_decorators.py:36: FutureWarning: Pass the following variable as a keyword arg: x. From version 0.12, the only valid positional argument will be `data`, and passing other arguments without an explicit keyword will result in an error or misinterpretation.\n",
      "  warnings.warn(\n"
     ]
    },
    {
     "data": {
      "text/plain": [
       "<AxesSubplot:xlabel='age'>"
      ]
     },
     "execution_count": 45,
     "metadata": {},
     "output_type": "execute_result"
    },
    {
     "data": {
      "image/png": "[encoded data removed]",
      "text/plain": [
       "<Figure size 432x288 with 1 Axes>"
      ]
     },
     "metadata": {
      "needs_background": "light"
     },
     "output_type": "display_data"
    }
   ],
   "source": [
    "sns.boxplot(titanic['age'])"
   ]
  },
  {
   "cell_type": "code",
   "execution_count": null,
   "id": "fc936343",
   "metadata": {},
   "outputs": [],
   "source": []
  }
 ],
 "metadata": {
  "kernelspec": {
   "display_name": "Python 3",
   "language": "python",
   "name": "python3"
  },
  "language_info": {
   "codemirror_mode": {
    "name": "ipython",
    "version": 3
   },
   "file_extension": ".py",
   "mimetype": "text/x-python",
   "name": "python",
   "nbconvert_exporter": "python",
   "pygments_lexer": "ipython3",
   "version": "3.8.8"
  }
 },
 "nbformat": 4,
 "nbformat_minor": 5
}
